{
 "cells": [
  {
   "cell_type": "markdown",
   "metadata": {},
   "source": [
    "# Byte Pair Encoder"
   ]
  },
  {
   "cell_type": "code",
   "execution_count": 182,
   "metadata": {},
   "outputs": [],
   "source": [
    "from collections import defaultdict\n",
    "import re\n",
    "from concurrent.futures import ThreadPoolExecutor\n",
    "\n",
    "class BytePairEncoder:\n",
    "    def __init__(self, n_merges):\n",
    "        self.vocab = defaultdict(int)\n",
    "        self.n_merges = n_merges\n",
    "        self.str_to_int=defaultdict(int)\n",
    "\n",
    "    def get_stats(self, corpus):\n",
    "        pairs = defaultdict(int)\n",
    "        for word, freq in corpus.items():\n",
    "            symbols = word.split()\n",
    "            for i in range(len(symbols) - 1):\n",
    "                pairs[(symbols[i], symbols[i + 1])] += freq\n",
    "        return pairs\n",
    "\n",
    "    def process_word(self, word, pair, pattern):\n",
    "        new_word = pattern.sub(''.join(pair), word)\n",
    "        return new_word\n",
    "\n",
    "    def merge_pairs(self, pair, corpus):\n",
    "        new_corpus = {}\n",
    "        bigram = re.escape(\" \".join(pair))\n",
    "        pattern = re.compile(r\"\\b\" + bigram + r\"\\b\")\n",
    "\n",
    "        with ThreadPoolExecutor() as executor:\n",
    "            results = executor.map(lambda word: (self.process_word(word, pair, pattern), corpus[word]), corpus.keys())\n",
    "\n",
    "        new_corpus.update(results)\n",
    "        return new_corpus\n",
    "    \n",
    "    def generate_ids(self):\n",
    "        tokens=sorted(self.vocab.keys())\n",
    "        self.str_to_int={token: id for id, token in enumerate(tokens)}\n",
    "        self.int_to_str={id: token for token, id in self.str_to_int.items()}\n",
    "\n",
    "    def fit(self, corpus):\n",
    "        corpus = {\" \".join(word): freq for word, freq in corpus.items()}\n",
    "        for _ in range(self.n_merges):\n",
    "            pairs = self.get_stats(corpus)\n",
    "            if not pairs:\n",
    "                break\n",
    "            best_pair = max(pairs, key=pairs.get)\n",
    "            corpus = self.merge_pairs(best_pair, corpus)\n",
    "            print(f\"Merging {best_pair}\")\n",
    "        for word, freq in corpus.items():\n",
    "            for token in word.split():\n",
    "                self.vocab[token] += freq\n",
    "        self.generate_ids()\n",
    "\n",
    "    def encode(self, word):\n",
    "        word = \" \".join(word)\n",
    "        for merged_token in sorted(self.vocab.keys(), key=len, reverse=True):\n",
    "            word = word.replace(\" \".join(merged_token), merged_token)\n",
    "        return [self.str_to_int[w] for w in word.split()]\n",
    "    def decode(self, word):\n",
    "        return [self.int_to_str[w] for w in word]"
   ]
  },
  {
   "cell_type": "code",
   "execution_count": 183,
   "metadata": {},
   "outputs": [],
   "source": [
    "with open('book.txt') as file:\n",
    "    raw_text=file.read()"
   ]
  },
  {
   "cell_type": "code",
   "execution_count": 184,
   "metadata": {},
   "outputs": [
    {
     "data": {
      "text/plain": [
       "'THE VERDICT\\nJune 1908\\n\\nI had a'"
      ]
     },
     "execution_count": 184,
     "metadata": {},
     "output_type": "execute_result"
    }
   ],
   "source": [
    "raw_text[:30]"
   ]
  },
  {
   "cell_type": "code",
   "execution_count": 185,
   "metadata": {},
   "outputs": [],
   "source": [
    "preprocessed=re.split(r'([,.:;?_!\"()\\']|--|\\s)', raw_text)\n",
    "preprocessed = [r for r in preprocessed if r.strip()]"
   ]
  },
  {
   "cell_type": "code",
   "execution_count": 186,
   "metadata": {},
   "outputs": [],
   "source": [
    "corpus=defaultdict(int)\n",
    "for word in preprocessed:\n",
    "    corpus[word.lower()]+=1"
   ]
  },
  {
   "cell_type": "code",
   "execution_count": 187,
   "metadata": {},
   "outputs": [],
   "source": [
    "corpus['--']=0"
   ]
  },
  {
   "cell_type": "code",
   "execution_count": 188,
   "metadata": {},
   "outputs": [
    {
     "name": "stdout",
     "output_type": "stream",
     "text": [
      "Merging ('h', 'e')\n",
      "Merging ('i', 'n')\n",
      "Merging ('t', 'he')\n",
      "Merging ('h', 'a')\n",
      "Merging ('o', 'u')\n",
      "Merging ('r', 'e')\n",
      "Merging ('a', 'n')\n",
      "Merging ('i', 't')\n",
      "Merging ('o', 'n')\n",
      "Merging ('s', 't')\n",
      "Merging ('e', 'd')\n",
      "Merging ('i', 's')\n",
      "Merging ('e', 'n')\n",
      "Merging ('a', 's')\n",
      "Merging ('in', 'g')\n",
      "Merging ('t', 'o')\n",
      "Merging ('o', 'f')\n",
      "Merging ('e', 'r')\n",
      "Merging ('an', 'd')\n",
      "Merging ('a', 't')\n",
      "Merging ('s', 'e')\n",
      "Merging ('o', 'r')\n",
      "Merging ('l', 'e')\n",
      "Merging ('b', 'e')\n",
      "Merging ('w', 'as')\n"
     ]
    }
   ],
   "source": [
    "bpe=BytePairEncoder(n_merges=25)\n",
    "bpe.fit(corpus=corpus)"
   ]
  },
  {
   "cell_type": "code",
   "execution_count": 189,
   "metadata": {},
   "outputs": [
    {
     "data": {
      "text/plain": [
       "defaultdict(int,\n",
       "            {'the': 236,\n",
       "             'v': 148,\n",
       "             'er': 105,\n",
       "             'd': 482,\n",
       "             'i': 571,\n",
       "             'c': 388,\n",
       "             't': 709,\n",
       "             'j': 43,\n",
       "             'u': 335,\n",
       "             'n': 252,\n",
       "             'e': 665,\n",
       "             '1': 1,\n",
       "             '9': 1,\n",
       "             '0': 1,\n",
       "             '8': 1,\n",
       "             'ha': 204,\n",
       "             'a': 654,\n",
       "             'l': 505,\n",
       "             'w': 303,\n",
       "             'y': 317,\n",
       "             's': 523,\n",
       "             'h': 394,\n",
       "             'ou': 198,\n",
       "             'g': 214,\n",
       "             'k': 144,\n",
       "             'is': 135,\n",
       "             'b': 183,\n",
       "             'r': 477,\n",
       "             'he': 195,\n",
       "             'p': 259,\n",
       "             'en': 130,\n",
       "             '-': 38,\n",
       "             'o': 413,\n",
       "             'f': 219,\n",
       "             'it': 177,\n",
       "             'was': 73,\n",
       "             're': 183,\n",
       "             'at': 91,\n",
       "             'to': 126,\n",
       "             'm': 397,\n",
       "             ',': 229,\n",
       "             'in': 162,\n",
       "             'of': 115,\n",
       "             'or': 82,\n",
       "             'ed': 145,\n",
       "             'ing': 130,\n",
       "             'and': 98,\n",
       "             'st': 152,\n",
       "             'se': 83,\n",
       "             'on': 177,\n",
       "             '.': 212,\n",
       "             '(': 3,\n",
       "             'be': 76,\n",
       "             ')': 3,\n",
       "             '\"': 137,\n",
       "             'an': 85,\n",
       "             'le': 77,\n",
       "             \"'\": 94,\n",
       "             ';': 22,\n",
       "             'as': 57,\n",
       "             'x': 20,\n",
       "             'q': 19,\n",
       "             ':': 21,\n",
       "             '?': 24,\n",
       "             '!': 24,\n",
       "             'z': 4})"
      ]
     },
     "execution_count": 189,
     "metadata": {},
     "output_type": "execute_result"
    }
   ],
   "source": [
    "bpe.vocab"
   ]
  },
  {
   "cell_type": "code",
   "execution_count": 190,
   "metadata": {},
   "outputs": [],
   "source": [
    "encoded=bpe.encode('hello world. tallest')"
   ]
  },
  {
   "cell_type": "code",
   "execution_count": 191,
   "metadata": {},
   "outputs": [
    {
     "data": {
      "text/plain": [
       "[32, 40, 40, 44, 61, 47, 40, 23, 7, 56, 15, 40, 41, 55]"
      ]
     },
     "execution_count": 191,
     "metadata": {},
     "output_type": "execute_result"
    }
   ],
   "source": [
    "encoded"
   ]
  },
  {
   "cell_type": "code",
   "execution_count": 192,
   "metadata": {},
   "outputs": [
    {
     "data": {
      "text/plain": [
       "['he', 'l', 'l', 'o', 'w', 'or', 'l', 'd', '.', 't', 'a', 'l', 'le', 'st']"
      ]
     },
     "execution_count": 192,
     "metadata": {},
     "output_type": "execute_result"
    }
   ],
   "source": [
    "bpe.decode(encoded)"
   ]
  }
 ],
 "metadata": {
  "kernelspec": {
   "display_name": "Python 3",
   "language": "python",
   "name": "python3"
  },
  "language_info": {
   "codemirror_mode": {
    "name": "ipython",
    "version": 3
   },
   "file_extension": ".py",
   "mimetype": "text/x-python",
   "name": "python",
   "nbconvert_exporter": "python",
   "pygments_lexer": "ipython3",
   "version": "3.10.0"
  }
 },
 "nbformat": 4,
 "nbformat_minor": 2
}
