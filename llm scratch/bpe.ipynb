{
 "cells": [
  {
   "cell_type": "markdown",
   "metadata": {},
   "source": [
    "# Byte Pair Encoder"
   ]
  },
  {
   "cell_type": "code",
   "execution_count": 151,
   "metadata": {},
   "outputs": [],
   "source": [
    "from collections import defaultdict\n",
    "import re\n",
    "\n",
    "class BytePairEncoder:\n",
    "    def __init__(self, n_merges):\n",
    "        self.vocab = {}\n",
    "        self.n_merges = n_merges\n",
    "        self.str_to_int=defaultdict(int)\n",
    "\n",
    "    def get_stats(self, corpus):\n",
    "        pairs = defaultdict(int)\n",
    "        for word, freq in corpus.items():\n",
    "            symbols = word.split()\n",
    "            for i in range(len(symbols) - 1):\n",
    "                pairs[(symbols[i], symbols[i + 1])] += freq\n",
    "        return pairs\n",
    "\n",
    "    def merge_pairs(self, pair, corpus):\n",
    "        new_corpus = {}\n",
    "        bigram = re.escape(\" \".join(pair))\n",
    "        pattern = re.compile(r\"\\b\" + bigram + r\"\\b\")\n",
    "\n",
    "        for word, freq in corpus.items():\n",
    "            new_word = pattern.sub(\"\".join(pair), word)\n",
    "            new_corpus[new_word] = freq\n",
    "        return new_corpus\n",
    "\n",
    "    def generate_ids(self):\n",
    "        tokens=sorted(self.vocab.keys())\n",
    "        self.str_to_int={token: id for id, token in enumerate(tokens)}\n",
    "        self.int_to_str={id: token for token, id in self.str_to_int.items()}\n",
    "\n",
    "    def fit(self, corpus):\n",
    "        corpus = {\" \".join(word): freq for word, freq in corpus.items()}\n",
    "        for _ in range(self.n_merges):\n",
    "            pairs = self.get_stats(corpus)\n",
    "            if not pairs:\n",
    "                break\n",
    "            best_pair = max(pairs, key=pairs.get)\n",
    "            corpus = self.merge_pairs(best_pair, corpus)\n",
    "            print(f\"Merging {best_pair}\")\n",
    "        for word, freq in corpus.items():\n",
    "            for token in word.split():\n",
    "                self.vocab[token] = freq\n",
    "        self.generate_ids()\n",
    "\n",
    "    def encode(self, word):\n",
    "        word = \" \".join(word)\n",
    "        for merged_token in sorted(self.vocab.keys(), key=len, reverse=True):\n",
    "            word = word.replace(\" \".join(merged_token), merged_token)\n",
    "        return [self.str_to_int[w] for w in word.split()]\n",
    "    def decode(self, word):\n",
    "        return [self.int_to_str[w] for w in word]"
   ]
  },
  {
   "cell_type": "code",
   "execution_count": 152,
   "metadata": {},
   "outputs": [],
   "source": [
    "with open('book.txt') as file:\n",
    "    raw_text=file.read()"
   ]
  },
  {
   "cell_type": "code",
   "execution_count": 153,
   "metadata": {},
   "outputs": [
    {
     "data": {
      "text/plain": [
       "'THE VERDICT\\nJune 1908\\n\\nI had a'"
      ]
     },
     "execution_count": 153,
     "metadata": {},
     "output_type": "execute_result"
    }
   ],
   "source": [
    "raw_text[:30]"
   ]
  },
  {
   "cell_type": "code",
   "execution_count": 154,
   "metadata": {},
   "outputs": [],
   "source": [
    "preprocessed=re.split(r'([,.:;?_!\"()\\']|--|\\s)', raw_text)\n",
    "preprocessed = [r for r in preprocessed if r.strip()]"
   ]
  },
  {
   "cell_type": "code",
   "execution_count": 155,
   "metadata": {},
   "outputs": [],
   "source": [
    "corpus=defaultdict(int)\n",
    "for word in preprocessed:\n",
    "    corpus[word.lower()]+=1"
   ]
  },
  {
   "cell_type": "code",
   "execution_count": 156,
   "metadata": {},
   "outputs": [],
   "source": [
    "corpus['--']=0"
   ]
  },
  {
   "cell_type": "code",
   "execution_count": 157,
   "metadata": {},
   "outputs": [
    {
     "name": "stdout",
     "output_type": "stream",
     "text": [
      "Merging ('h', 'e')\n",
      "Merging ('i', 'n')\n",
      "Merging ('t', 'he')\n",
      "Merging ('h', 'a')\n",
      "Merging ('o', 'u')\n",
      "Merging ('r', 'e')\n",
      "Merging ('a', 'n')\n",
      "Merging ('i', 't')\n",
      "Merging ('o', 'n')\n",
      "Merging ('s', 't')\n",
      "Merging ('e', 'd')\n",
      "Merging ('i', 's')\n",
      "Merging ('e', 'n')\n",
      "Merging ('a', 's')\n",
      "Merging ('in', 'g')\n",
      "Merging ('t', 'o')\n",
      "Merging ('o', 'f')\n",
      "Merging ('e', 'r')\n",
      "Merging ('an', 'd')\n",
      "Merging ('a', 't')\n",
      "Merging ('s', 'e')\n",
      "Merging ('o', 'r')\n",
      "Merging ('l', 'e')\n",
      "Merging ('b', 'e')\n",
      "Merging ('w', 'as')\n"
     ]
    }
   ],
   "source": [
    "bpe=BytePairEncoder(n_merges=25)\n",
    "bpe.fit(corpus=corpus)"
   ]
  },
  {
   "cell_type": "code",
   "execution_count": 158,
   "metadata": {},
   "outputs": [
    {
     "data": {
      "text/plain": [
       "{'the': 1,\n",
       " 'v': 1,\n",
       " 'er': 1,\n",
       " 'd': 1,\n",
       " 'i': 1,\n",
       " 'c': 1,\n",
       " 't': 1,\n",
       " 'j': 2,\n",
       " 'u': 1,\n",
       " 'n': 1,\n",
       " 'e': 1,\n",
       " '1': 1,\n",
       " '9': 1,\n",
       " '0': 1,\n",
       " '8': 1,\n",
       " 'ha': 1,\n",
       " 'a': 1,\n",
       " 'l': 1,\n",
       " 'w': 1,\n",
       " 'y': 1,\n",
       " 's': 1,\n",
       " 'h': 1,\n",
       " 'ou': 1,\n",
       " 'g': 1,\n",
       " 'k': 1,\n",
       " 'is': 1,\n",
       " 'b': 1,\n",
       " 'r': 1,\n",
       " 'he': 1,\n",
       " 'p': 1,\n",
       " 'en': 1,\n",
       " '-': 1,\n",
       " 'o': 1,\n",
       " 'f': 1,\n",
       " 'it': 1,\n",
       " 'was': 1,\n",
       " 're': 1,\n",
       " 'at': 1,\n",
       " 'to': 1,\n",
       " 'm': 1,\n",
       " ',': 229,\n",
       " 'in': 1,\n",
       " 'of': 4,\n",
       " 'or': 1,\n",
       " 'ed': 1,\n",
       " 'ing': 1,\n",
       " 'and': 1,\n",
       " 'st': 1,\n",
       " 'se': 1,\n",
       " 'on': 3,\n",
       " '.': 212,\n",
       " '(': 3,\n",
       " 'be': 1,\n",
       " ')': 3,\n",
       " '\"': 137,\n",
       " 'an': 1,\n",
       " 'le': 1,\n",
       " \"'\": 94,\n",
       " ';': 22,\n",
       " 'as': 1,\n",
       " 'x': 1,\n",
       " 'q': 3,\n",
       " ':': 21,\n",
       " '?': 24,\n",
       " '!': 24,\n",
       " 'z': 1}"
      ]
     },
     "execution_count": 158,
     "metadata": {},
     "output_type": "execute_result"
    }
   ],
   "source": [
    "bpe.vocab"
   ]
  },
  {
   "cell_type": "code",
   "execution_count": 159,
   "metadata": {},
   "outputs": [],
   "source": [
    "encoded=bpe.encode('hello world. tallest')"
   ]
  },
  {
   "cell_type": "code",
   "execution_count": 160,
   "metadata": {},
   "outputs": [
    {
     "data": {
      "text/plain": [
       "[32, 40, 40, 44, 61, 47, 40, 23, 7, 56, 15, 40, 41, 55]"
      ]
     },
     "execution_count": 160,
     "metadata": {},
     "output_type": "execute_result"
    }
   ],
   "source": [
    "encoded"
   ]
  },
  {
   "cell_type": "code",
   "execution_count": 161,
   "metadata": {},
   "outputs": [
    {
     "data": {
      "text/plain": [
       "['he', 'l', 'l', 'o', 'w', 'or', 'l', 'd', '.', 't', 'a', 'l', 'le', 'st']"
      ]
     },
     "execution_count": 161,
     "metadata": {},
     "output_type": "execute_result"
    }
   ],
   "source": [
    "bpe.decode(encoded)"
   ]
  }
 ],
 "metadata": {
  "kernelspec": {
   "display_name": "Python 3",
   "language": "python",
   "name": "python3"
  },
  "language_info": {
   "codemirror_mode": {
    "name": "ipython",
    "version": 3
   },
   "file_extension": ".py",
   "mimetype": "text/x-python",
   "name": "python",
   "nbconvert_exporter": "python",
   "pygments_lexer": "ipython3",
   "version": "3.10.0"
  }
 },
 "nbformat": 4,
 "nbformat_minor": 2
}
