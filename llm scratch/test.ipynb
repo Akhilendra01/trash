{
 "cells": [
  {
   "cell_type": "markdown",
   "metadata": {},
   "source": [
    "# Loading the text"
   ]
  },
  {
   "cell_type": "code",
   "execution_count": 2,
   "metadata": {},
   "outputs": [],
   "source": [
    "file=open(\"book.txt\", 'r')\n",
    "raw_text=file.read()\n",
    "file.close()"
   ]
  },
  {
   "cell_type": "markdown",
   "metadata": {},
   "source": [
    "# Tokeinze the story"
   ]
  },
  {
   "cell_type": "code",
   "execution_count": 27,
   "metadata": {},
   "outputs": [],
   "source": [
    "import re\n",
    "prepocessed=re.split(r'([!.,_?:;()\"\\']|--|\\s)', raw_text)\n",
    "prepocessed = [r for r in prepocessed if r.strip()]   "
   ]
  },
  {
   "cell_type": "code",
   "execution_count": 30,
   "metadata": {},
   "outputs": [
    {
     "name": "stdout",
     "output_type": "stream",
     "text": [
      "['THE', 'VERDICT', 'June', '1908', 'I', 'had', 'always', 'thought', 'Jack', 'Gisburn', 'rather', 'a', 'cheap', 'genius', '--', 'though', 'a', 'good', 'fellow', 'enough', '--', 'so', 'it', 'was', 'no', 'great', 'surprise', 'to', 'me', 'to']\n"
     ]
    }
   ],
   "source": [
    "print(prepocessed[:30])"
   ]
  },
  {
   "cell_type": "markdown",
   "metadata": {},
   "source": [
    "# Convert tokens to ids"
   ]
  },
  {
   "cell_type": "code",
   "execution_count": 54,
   "metadata": {},
   "outputs": [],
   "source": [
    "vocab=sorted(set(prepocessed))\n",
    "vocab.extend(['<|endoftext|>', '<|unk|>'])\n",
    "vocab_size=len(vocab)"
   ]
  },
  {
   "cell_type": "code",
   "execution_count": 55,
   "metadata": {},
   "outputs": [
    {
     "name": "stdout",
     "output_type": "stream",
     "text": [
      "1150\n"
     ]
    }
   ],
   "source": [
    "print(vocab_size)"
   ]
  },
  {
   "cell_type": "code",
   "execution_count": 56,
   "metadata": {},
   "outputs": [],
   "source": [
    "vocab={token:id for id, token in enumerate(vocab)}"
   ]
  },
  {
   "cell_type": "markdown",
   "metadata": {},
   "source": [
    "# Tokenizer class"
   ]
  },
  {
   "cell_type": "code",
   "execution_count": 57,
   "metadata": {},
   "outputs": [],
   "source": [
    "import re\n",
    "class SimpleTokenizerV1:\n",
    "    def __init__(self, vocab):\n",
    "        self.str_to_int=vocab\n",
    "        self.int_to_str={id: token for token, id in vocab.items()}\n",
    "    \n",
    "    def encode(self, text):\n",
    "        preprocessed=re.split(r'([,.:;?_!\"()\\']|--|\\s)', text)\n",
    "        preprocessed = [r for r in preprocessed if r.strip()]\n",
    "        return [self.str_to_int[token] for token in preprocessed]\n",
    "\n",
    "    def decode(self, ids):\n",
    "        text= ' '.join([self.int_to_str[id] for id in ids])\n",
    "        text= re.sub(r'\\s+([.,:;?_!\"()\\'])', r'\\1', text)\n",
    "        return text"
   ]
  },
  {
   "cell_type": "code",
   "execution_count": 58,
   "metadata": {},
   "outputs": [],
   "source": [
    "tokenizer=SimpleTokenizerV1(vocab)"
   ]
  },
  {
   "cell_type": "code",
   "execution_count": 59,
   "metadata": {},
   "outputs": [
    {
     "name": "stdout",
     "output_type": "stream",
     "text": [
      "[107, 555, 740, 566, 513, 1, 6, 1005, 1095, 1107, 1006, 1130, 258, 603, 7]\n",
      "The height of his glory\" -- that was what the women called it.\n"
     ]
    }
   ],
   "source": [
    "text = 'The height of his glory\"--that was what the women called it.'\n",
    "encoded=tokenizer.encode(text)\n",
    "print(encoded)\n",
    "print(tokenizer.decode(encoded))"
   ]
  },
  {
   "cell_type": "code",
   "execution_count": 60,
   "metadata": {},
   "outputs": [],
   "source": [
    "import re\n",
    "\n",
    "class SimpleTokenizerV2:\n",
    "    def __init__(self, vocab):\n",
    "        self.str_to_int = vocab\n",
    "        self.int_to_str = {id: token for token, id in vocab.items()}\n",
    "\n",
    "    def encode(self, text):\n",
    "        preprocessed = re.split(r'([,.:;?_!\"()\\']|--|\\s)', text)\n",
    "        preprocessed = [r for r in preprocessed if r.strip()]\n",
    "        preprocessed = [r if r in self.str_to_int else \"<|unk|>\" for r in preprocessed]\n",
    "        return [self.str_to_int[token] for token in preprocessed]\n",
    "\n",
    "    def decode(self, ids):\n",
    "        text = \" \".join([self.int_to_str[id] for id in ids])\n",
    "        text = re.sub(r'\\s+([.,:;?_!\"()\\'])', r\"\\1\", text)\n",
    "        return text"
   ]
  },
  {
   "cell_type": "code",
   "execution_count": 63,
   "metadata": {},
   "outputs": [
    {
     "name": "stdout",
     "output_type": "stream",
     "text": [
      "[107, 555, 740, 566, 513, 1, 6, 1005, 1095, 1107, 1006, 1130, 258, 603, 7, 1149]\n",
      "The height of his glory\" -- that was what the women called it. <|unk|>\n"
     ]
    }
   ],
   "source": [
    "text = 'The height of his glory\"--that was what the women called it. Hello'\n",
    "tokenizer = SimpleTokenizerV2(vocab)\n",
    "encoded = tokenizer.encode(text)\n",
    "print(encoded)\n",
    "print(tokenizer.decode(encoded))"
   ]
  },
  {
   "cell_type": "markdown",
   "metadata": {},
   "source": [
    "# Byte pair encoder"
   ]
  },
  {
   "cell_type": "code",
   "execution_count": 100,
   "metadata": {},
   "outputs": [],
   "source": []
  },
  {
   "cell_type": "code",
   "execution_count": 101,
   "metadata": {},
   "outputs": [],
   "source": [
    "corpus={\"low\": 5, \"lowe s t\": 2, \"newer\": 6, \"wider\": 3}"
   ]
  },
  {
   "cell_type": "code",
   "execution_count": 104,
   "metadata": {},
   "outputs": [
    {
     "name": "stdout",
     "output_type": "stream",
     "text": [
      "Merging ('e', 'r')\n",
      "Merging ('l', 'o')\n",
      "Merging ('lo', 'w')\n",
      "Merging ('n', 'e')\n",
      "Merging ('ne', 'w')\n"
     ]
    }
   ],
   "source": [
    "bpe = BytePairEncoder(n_merges=5)\n",
    "bpe.fit(corpus)"
   ]
  }
 ],
 "metadata": {
  "kernelspec": {
   "display_name": "Python 3",
   "language": "python",
   "name": "python3"
  },
  "language_info": {
   "codemirror_mode": {
    "name": "ipython",
    "version": 3
   },
   "file_extension": ".py",
   "mimetype": "text/x-python",
   "name": "python",
   "nbconvert_exporter": "python",
   "pygments_lexer": "ipython3",
   "version": "3.10.0"
  }
 },
 "nbformat": 4,
 "nbformat_minor": 2
}
